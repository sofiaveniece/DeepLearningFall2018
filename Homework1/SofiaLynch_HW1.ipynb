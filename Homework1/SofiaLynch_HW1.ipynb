{
  "nbformat": 4,
  "nbformat_minor": 0,
  "metadata": {
    "colab": {
      "name": "SofiaLynch_HW1.ipynb",
      "version": "0.3.2",
      "provenance": [],
      "private_outputs": true
    },
    "kernelspec": {
      "name": "python3",
      "display_name": "Python 3"
    }
  },
  "cells": [
    {
      "metadata": {
        "id": "aX6UBflcbGw1",
        "colab_type": "text"
      },
      "cell_type": "markdown",
      "source": [
        "In the line below, write your first and last name."
      ]
    },
    {
      "metadata": {
        "id": "xqRKl4nKbIyj",
        "colab_type": "text"
      },
      "cell_type": "markdown",
      "source": [
        "Sofia Lynch"
      ]
    },
    {
      "metadata": {
        "id": "ZUCRobZE2T9P",
        "colab_type": "code",
        "colab": {}
      },
      "cell_type": "code",
      "source": [
        "import numpy as np\n",
        "from numpy.random import *"
      ],
      "execution_count": 0,
      "outputs": []
    },
    {
      "metadata": {
        "id": "v6knQ8c22mQJ",
        "colab_type": "text"
      },
      "cell_type": "markdown",
      "source": [
        "In the empty code cell below, create a 5 x 3 matrix called ***mat1*** composed of random numbers taken from a Gaussian distribution. "
      ]
    },
    {
      "metadata": {
        "id": "1uUdLdn62XG9",
        "colab_type": "code",
        "colab": {}
      },
      "cell_type": "code",
      "source": [
        "mat1 = randn(5,3)\n",
        "print (mat1)"
      ],
      "execution_count": 0,
      "outputs": []
    },
    {
      "metadata": {
        "id": "9jjm8K663Cvf",
        "colab_type": "text"
      },
      "cell_type": "markdown",
      "source": [
        "In the code cell below, create a 3 x 4 matrix called ***mat2*** where every element in the matrix is the value 1."
      ]
    },
    {
      "metadata": {
        "id": "3gmHfI7C3B7F",
        "colab_type": "code",
        "colab": {}
      },
      "cell_type": "code",
      "source": [
        "mat2 = np.ones([3,5])\n",
        "print (mat2)"
      ],
      "execution_count": 0,
      "outputs": []
    },
    {
      "metadata": {
        "id": "M0nlnH0k3RjU",
        "colab_type": "text"
      },
      "cell_type": "markdown",
      "source": [
        "In the code cell below, perform a matrix multiply between ***mat1*** and ***mat2*** and call the resulting matrix mat_mul."
      ]
    },
    {
      "metadata": {
        "id": "z5-numH73QmE",
        "colab_type": "code",
        "colab": {}
      },
      "cell_type": "code",
      "source": [
        "mat_mul = np.matmul(mat1,mat2)"
      ],
      "execution_count": 0,
      "outputs": []
    },
    {
      "metadata": {
        "id": "641avPu752z5",
        "colab_type": "text"
      },
      "cell_type": "markdown",
      "source": [
        "How many rows and columns should the matrix ***mat_mul*** have? Enter your answer in the line below."
      ]
    },
    {
      "metadata": {
        "id": "KG5Rsy_56IHa",
        "colab_type": "text"
      },
      "cell_type": "markdown",
      "source": [
        "5x4; i.e 5 rows and 4 columns"
      ]
    },
    {
      "metadata": {
        "id": "rIBEO41p6e9J",
        "colab_type": "text"
      },
      "cell_type": "markdown",
      "source": [
        "Can ***mat1*** and ***mat2*** be added together, elementwise? Answer in the line below."
      ]
    },
    {
      "metadata": {
        "id": "UYNbab_b6uB6",
        "colab_type": "text"
      },
      "cell_type": "markdown",
      "source": [
        "No"
      ]
    },
    {
      "metadata": {
        "id": "xlEkwdje6usV",
        "colab_type": "text"
      },
      "cell_type": "markdown",
      "source": [
        "In the line below, print the value of ***mat1<sub>0,2</sub>***"
      ]
    },
    {
      "metadata": {
        "id": "67uszUsu5wPA",
        "colab_type": "code",
        "colab": {}
      },
      "cell_type": "code",
      "source": [
        "print (mat1[0,2])"
      ],
      "execution_count": 0,
      "outputs": []
    },
    {
      "metadata": {
        "id": "XqfSa1H1_nuw",
        "colab_type": "text"
      },
      "cell_type": "markdown",
      "source": [
        "In the line below, change the value of ***mat1<sub>2,2</sub>*** to 0.3. Then, print ***mat1*** to show the change."
      ]
    },
    {
      "metadata": {
        "id": "vb8mygdi8xE7",
        "colab_type": "code",
        "colab": {}
      },
      "cell_type": "code",
      "source": [
        "mat1[2,2] = 0.3\n",
        "print (mat1)"
      ],
      "execution_count": 0,
      "outputs": []
    },
    {
      "metadata": {
        "id": "870FhaqAMVG2",
        "colab_type": "text"
      },
      "cell_type": "markdown",
      "source": [
        "In the line below, print the shape of ***mat2***."
      ]
    },
    {
      "metadata": {
        "id": "htcLFo1E_4gb",
        "colab_type": "code",
        "colab": {}
      },
      "cell_type": "code",
      "source": [
        "print (mat2.shape)"
      ],
      "execution_count": 0,
      "outputs": []
    },
    {
      "metadata": {
        "id": "Pj6JsBL6TAqH",
        "colab_type": "text"
      },
      "cell_type": "markdown",
      "source": [
        "In the line below, add a value of 2.0 to every element in ***mat2***. Then print ***mat2*** to show the result."
      ]
    },
    {
      "metadata": {
        "id": "-hnuEIaNS88P",
        "colab_type": "code",
        "colab": {}
      },
      "cell_type": "code",
      "source": [
        "mat2_add2 = mat2 + 2.0\n",
        "print (mat2_add2)"
      ],
      "execution_count": 0,
      "outputs": []
    },
    {
      "metadata": {
        "id": "PDxXQdHgTbCn",
        "colab_type": "text"
      },
      "cell_type": "markdown",
      "source": [
        "In the line below, take the sum of each column of ***mat1*** and call the result ***mat1sum***. Then, print ***mat1sum*** and its shape."
      ]
    },
    {
      "metadata": {
        "id": "l-muD4TATLRd",
        "colab_type": "code",
        "colab": {}
      },
      "cell_type": "code",
      "source": [
        "mat1sum = np.sum(mat1,0)\n",
        "print (mat1sum.shape)\n",
        "print (mat1sum)"
      ],
      "execution_count": 0,
      "outputs": []
    },
    {
      "metadata": {
        "id": "nFvgI71zT8Mx",
        "colab_type": "text"
      },
      "cell_type": "markdown",
      "source": [
        "In the line below, write the shape you would expect if you transposed a 8 x 3 matrix."
      ]
    },
    {
      "metadata": {
        "id": "MpGr0dhPUQUy",
        "colab_type": "text"
      },
      "cell_type": "markdown",
      "source": [
        "3x8"
      ]
    },
    {
      "metadata": {
        "id": "JQCw221_UetL",
        "colab_type": "text"
      },
      "cell_type": "markdown",
      "source": [
        "In the line below, take the mean of ***mat1*** and call the result ***mat1mean***. Then, print ***mat1mean***."
      ]
    },
    {
      "metadata": {
        "id": "Z8TU_hNPUOsX",
        "colab_type": "code",
        "colab": {}
      },
      "cell_type": "code",
      "source": [
        "mat1mean = np.mean(mat1)\n",
        "print (mat1mean)"
      ],
      "execution_count": 0,
      "outputs": []
    },
    {
      "metadata": {
        "id": "U75rw8DNUzfa",
        "colab_type": "text"
      },
      "cell_type": "markdown",
      "source": [
        "In the line below, create a variable called ***mat1row1*** which is the first row of ***mat1***. Then, print ***mat1row1*** and its shape."
      ]
    },
    {
      "metadata": {
        "id": "pEQJyZpbUsYN",
        "colab_type": "code",
        "colab": {}
      },
      "cell_type": "code",
      "source": [
        "mat1row1 = mat1[0,:]\n",
        "print (mat1row1)"
      ],
      "execution_count": 0,
      "outputs": []
    },
    {
      "metadata": {
        "id": "4qwbBZmxVMVE",
        "colab_type": "text"
      },
      "cell_type": "markdown",
      "source": [
        "In the line below, create a variable called ***mat1row2*** which is the second row of ***mat1***. Then, print ***mat1row2*** and its shape."
      ]
    },
    {
      "metadata": {
        "id": "GRHdFOPQVIUL",
        "colab_type": "code",
        "colab": {}
      },
      "cell_type": "code",
      "source": [
        "mat1row2 = mat1[1,:]\n",
        "print (mat1row2)\n",
        "print (mat1row2.shape)"
      ],
      "execution_count": 0,
      "outputs": []
    },
    {
      "metadata": {
        "id": "1rxnG2gZVY5R",
        "colab_type": "text"
      },
      "cell_type": "markdown",
      "source": [
        "In the line below, create a variable called ***mat1col1*** which is the first column of ***mat1***. Then, print ***mat1col1*** and its shape."
      ]
    },
    {
      "metadata": {
        "id": "JVav6sdMVXJh",
        "colab_type": "code",
        "colab": {}
      },
      "cell_type": "code",
      "source": [
        "mat1col1 = mat1[:,0]\n",
        "print (mat1col1)\n",
        "print (mat1col1.shape)"
      ],
      "execution_count": 0,
      "outputs": []
    },
    {
      "metadata": {
        "id": "y1xp049GVvVS",
        "colab_type": "text"
      },
      "cell_type": "markdown",
      "source": [
        "In the line below, print the maximum value in ***mat1***, as well as the minimum value of ***mat1***."
      ]
    },
    {
      "metadata": {
        "id": "5jFJgtBAVqSz",
        "colab_type": "code",
        "colab": {}
      },
      "cell_type": "code",
      "source": [
        "mat1min = np.amin(mat1)\n",
        "mat1max = np.amax(mat1)\n",
        "print (mat1min)\n",
        "print (mat1max)"
      ],
      "execution_count": 0,
      "outputs": []
    },
    {
      "metadata": {
        "id": "DzXLsxnDWFrR",
        "colab_type": "text"
      },
      "cell_type": "markdown",
      "source": [
        "In the line below, print the number of elements in ***mat1***."
      ]
    },
    {
      "metadata": {
        "id": "HXu5wvnsWCQP",
        "colab_type": "code",
        "colab": {}
      },
      "cell_type": "code",
      "source": [
        "print (mat1.size)"
      ],
      "execution_count": 0,
      "outputs": []
    },
    {
      "metadata": {
        "id": "V1jQv8bQWMnd",
        "colab_type": "text"
      },
      "cell_type": "markdown",
      "source": [
        "In the line below, create a matrix of zeros called ***mat3*** with shape 4 x 4. Then print ***mat3***."
      ]
    },
    {
      "metadata": {
        "id": "r8GX3b-GWJ0o",
        "colab_type": "code",
        "colab": {}
      },
      "cell_type": "code",
      "source": [
        "mat3 = np.zeros ([4,4])\n",
        "print (mat3)"
      ],
      "execution_count": 0,
      "outputs": []
    },
    {
      "metadata": {
        "id": "4mVTwYVtWaf3",
        "colab_type": "text"
      },
      "cell_type": "markdown",
      "source": [
        "In the line below, create matrix of ones called ***mat4*** with shape 4 x 4. Then print ***mat4***."
      ]
    },
    {
      "metadata": {
        "id": "PDOYsJBsWZi1",
        "colab_type": "code",
        "colab": {}
      },
      "cell_type": "code",
      "source": [
        "mat4 = np.ones ([4,4])\n",
        "print (mat4)"
      ],
      "execution_count": 0,
      "outputs": []
    },
    {
      "metadata": {
        "id": "I6o3_3IhW7Vd",
        "colab_type": "text"
      },
      "cell_type": "markdown",
      "source": [
        "In the line below, add ***mat3*** and ***mat4*** elementwise and call the resulting matrix ***mat3_4***. Then print ***mat3_4***."
      ]
    },
    {
      "metadata": {
        "id": "ZUdD5vhAW6t1",
        "colab_type": "code",
        "colab": {}
      },
      "cell_type": "code",
      "source": [
        "mat3_4 = mat3 + mat4\n",
        "print (mat3_4)"
      ],
      "execution_count": 0,
      "outputs": []
    },
    {
      "metadata": {
        "id": "Pwc7Xj82XO8z",
        "colab_type": "text"
      },
      "cell_type": "markdown",
      "source": [
        "In the line below, multiply ***mat3*** by ***mat4*** elementwise and call the resulting matrix ***mat3_4mult*** and print it."
      ]
    },
    {
      "metadata": {
        "id": "6EPGRjqFW5wC",
        "colab_type": "code",
        "colab": {}
      },
      "cell_type": "code",
      "source": [
        "mat3_4mult = np.matmul(mat3,mat4)\n",
        "print (mat3_4mult)"
      ],
      "execution_count": 0,
      "outputs": []
    },
    {
      "metadata": {
        "id": "tEIefrdEXeYC",
        "colab_type": "text"
      },
      "cell_type": "markdown",
      "source": [
        "In the line below, create new matrix called ***mat5*** with shape 4 x 3 with random numbers from a normal distribution. Then print ***mat5***."
      ]
    },
    {
      "metadata": {
        "id": "gLhdimHoXcI4",
        "colab_type": "code",
        "colab": {}
      },
      "cell_type": "code",
      "source": [
        "mat5 = randn (4,3)\n",
        "print (mat5)"
      ],
      "execution_count": 0,
      "outputs": []
    },
    {
      "metadata": {
        "id": "LhuEpmHiX5kA",
        "colab_type": "text"
      },
      "cell_type": "markdown",
      "source": [
        "In the line below, write your answer to the following question: A matrix multiply can be performed between ***mat4*** and ***mat5*** in that order (True or False)."
      ]
    },
    {
      "metadata": {
        "id": "fLgzR8IkYWMP",
        "colab_type": "text"
      },
      "cell_type": "markdown",
      "source": [
        "**IT'S THE WHOLE TRUTH, NOTHING BUT THE TRUTH. SO HELP ME PROGRAMMING GODS.**"
      ]
    },
    {
      "metadata": {
        "id": "rlXd4U8rYW4D",
        "colab_type": "text"
      },
      "cell_type": "markdown",
      "source": [
        "In the line below, write your answer to the following question: A matrix multiply can be performed between ***mat4*** and ***mat5*** if you transpose ***mat4*** (True or False)."
      ]
    },
    {
      "metadata": {
        "id": "bUxNmrvHYz1K",
        "colab_type": "text"
      },
      "cell_type": "markdown",
      "source": [
        "**NOT FALSE**"
      ]
    },
    {
      "metadata": {
        "id": "BvdTG-11Y5-0",
        "colab_type": "text"
      },
      "cell_type": "markdown",
      "source": [
        "In the line below, write your answer to the following question: A matrix multiply can be performed between ***mat5*** and ***mat4*** in that order (True or False)."
      ]
    },
    {
      "metadata": {
        "id": "3FDmxqeSZHkP",
        "colab_type": "text"
      },
      "cell_type": "markdown",
      "source": [
        "**THE OPPOSITE OF TRUE. SO, NOT TRUE**\n",
        "\n"
      ]
    },
    {
      "metadata": {
        "id": "JJnIYMvgZOia",
        "colab_type": "text"
      },
      "cell_type": "markdown",
      "source": [
        "In the line below, transpose ***mat4*** and perform a matrix multiply between ***mat4*** and ***mat5*** in that order and call the resulting matrix ***mat45mult***. Then, print the shape of the resulting matrix."
      ]
    },
    {
      "metadata": {
        "id": "6jxpyXtUX5AW",
        "colab_type": "code",
        "colab": {}
      },
      "cell_type": "code",
      "source": [
        "mat4t = mat4.transpose()\n",
        "mat45mult = np.matmul(mat4t,mat5)\n",
        "print (mat45mult.shape)"
      ],
      "execution_count": 0,
      "outputs": []
    },
    {
      "metadata": {
        "id": "59zUHJYKasWo",
        "colab_type": "text"
      },
      "cell_type": "markdown",
      "source": [
        "To submit this assignment, click on File > Download as .ipynb and upload the downloaded notebook to the Homework1 folder on the class github. "
      ]
    }
  ]
}